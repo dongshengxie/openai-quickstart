{
 "cells": [
  {
   "cell_type": "markdown",
   "id": "69032b4b-b031-4020-beb0-e8dfd22b660e",
   "metadata": {},
   "source": [
    "# LangChain 实战：洗衣机销售聊天机器人"
   ]
  },
  {
   "cell_type": "markdown",
   "id": "0f3e2d5a-c2ff-4faf-b153-d1751c25fae0",
   "metadata": {},
   "source": [
    "## 使用 GPT-4 构造销售话术数据\n",
    "\n",
    "ChatGPT 分享链接：https://chatgpt.com/share/b12a3a92-04ef-4b42-a5c5-b862aaaaca16\n",
    "\n",
    "\n",
    "使用 ChatGPT 构造销售数据的 Prompt 示例：\n",
    "\n",
    "```\n",
    "你是中国顶级的洗衣机销售，现在培训职场新人，请给出100条实用的销售话术。\n",
    "\n",
    "每条销售话术以如下格式给出：\n",
    "[客户问题]\n",
    "[销售回答]\n",
    "\n",
    "```\n",
    "\n",
    "GPT-4 回复结果：\n",
    "\n",
    "```\n",
    "1.\n",
    "[客户问题]：这款洗衣机的洗涤效果怎么样？\n",
    "[销售回答]：这款洗衣机采用了先进的洗涤技术，能深层清洁衣物，即使是顽固污渍也能轻松去除，保证您的衣物洁净如新。\n",
    "\n",
    "2.\n",
    "[客户问题]：这款洗衣机省电吗？\n",
    "[销售回答]：是的，这款洗衣机采用了节能设计，能耗低，长期使用可以大幅减少电费支出，是非常经济实惠的选择。\n",
    "\n",
    "3.\n",
    "[客户问题]：我家空间比较小，这款洗衣机放得下吗？\n",
    "[销售回答]：这款洗衣机的设计非常紧凑，占地面积小，即使在小空间内也能轻松放置，完全适合您的需求。\n",
    "\n",
    "4.\n",
    "[客户问题]：这款洗衣机噪音大吗？\n",
    "[销售回答]：这款洗衣机配备了静音技术，运行时非常安静，几乎不会打扰到您和家人的日常生活。\n",
    "\n",
    "5.\n",
    "[客户问题]：这款洗衣机使用起来方便吗？\n",
    "[销售回答]：非常方便，这款洗衣机具有智能操作面板，功能直观易懂，任何人都能轻松上手。\n",
    "\n",
    "6.\n",
    "[客户问题]：洗衣机容量大吗？\n",
    "[销售回答]：这款洗衣机有多种容量可供选择，您可以根据家庭人口和洗涤需求选择合适的型号，确保能一次性洗涤更多衣物。\n",
    "\n",
    "7.\n",
    "[客户问题]：这款洗衣机对衣物的磨损大吗？\n",
    "[销售回答]：这款洗衣机采用了柔性洗涤技术，能够在清洁衣物的同时，最大程度减少衣物的磨损，保护您的衣物质地。\n",
    "\n",
    "8.\n",
    "[客户问题]：这款洗衣机怎么控制水温？\n",
    "[销售回答]：这款洗衣机配备了智能水温控制系统，您可以根据不同的衣物材质，选择适合的水温进行洗涤，非常方便。\n",
    "\n",
    "9.\n",
    "[客户问题]：这款洗衣机有什么特殊功能吗？\n",
    "[销售回答]：是的，这款洗衣机除了常规的洗涤功能外，还配备了快速洗、消毒、除菌等多种特殊功能，满足您各种洗衣需求。\n",
    "\n",
    "10.\n",
    "[客户问题]：售后服务怎么样？\n",
    "[销售回答]：我们的售后服务非常完善，提供免费安装、保修等服务，还有24小时服务热线，随时为您解决问题，让您买得安心，用得放心。\n",
    "```\n",
    "\n",
    "\n",
    "## 使用 Document Transformers 模块来处理原始数据\n",
    "\n",
    "\n",
    "将 ChatGPT 生成的结果保存到 wash_machine_sales_data.txt 文件中"
   ]
  },
  {
   "cell_type": "code",
   "execution_count": 1,
   "id": "efcee928-b9f4-4e4a-b9fb-f6cbee21b642",
   "metadata": {},
   "outputs": [],
   "source": [
    "with open(\"wash_machine_sales_data.txt\") as f:\n",
    "    wash_machine_sales = f.read()"
   ]
  },
  {
   "cell_type": "markdown",
   "id": "a9119556-d2e3-4edf-be16-15837da156f1",
   "metadata": {},
   "source": [
    "### 使用 CharacterTextSplitter 来进行文本分割\n",
    "\n",
    "- 基于单字符来进行文本分割（separator）\n",
    "- 基于字符数来决定文本块长度（chunk_size）\n",
    "\n",
    "参考示例：\n",
    "\n",
    "```python\n",
    "from langchain.text_splitter import CharacterTextSplitter\n",
    "text_splitter = CharacterTextSplitter(        \n",
    "    separator = \"\\n\\n\",\n",
    "    chunk_size = 1000,\n",
    "    chunk_overlap  = 200,\n",
    "    length_function = len,\n",
    "    is_separator_regex = False,\n",
    ")\n",
    "```\n"
   ]
  },
  {
   "cell_type": "code",
   "execution_count": 2,
   "id": "dbe535b8-2bd8-4c31-91d7-eba8aa61b3ef",
   "metadata": {},
   "outputs": [],
   "source": [
    "from langchain.text_splitter import CharacterTextSplitter"
   ]
  },
  {
   "cell_type": "code",
   "execution_count": 3,
   "id": "a4f30d9b-9fc6-4860-a497-0aa8220b9284",
   "metadata": {},
   "outputs": [],
   "source": [
    "text_splitter = CharacterTextSplitter(        \n",
    "    separator = r'\\d+\\.',\n",
    "    chunk_size = 100,\n",
    "    chunk_overlap  = 0,\n",
    "    length_function = len,\n",
    "    is_separator_regex = True,\n",
    ")"
   ]
  },
  {
   "cell_type": "code",
   "execution_count": 4,
   "id": "530f3172-17a5-4924-ad17-284fbca422ae",
   "metadata": {},
   "outputs": [],
   "source": [
    "docs = text_splitter.create_documents([wash_machine_sales])"
   ]
  },
  {
   "cell_type": "code",
   "execution_count": 5,
   "id": "3956ec36-706e-4f43-88fc-d704f2984290",
   "metadata": {},
   "outputs": [
    {
     "data": {
      "text/plain": [
       "Document(page_content='[客户问题]：这款洗衣机的洗涤效果怎么样？\\n[销售回答]：这款洗衣机采用了先进的洗涤技术，能深层清洁衣物，即使是顽固污渍也能轻松去除，保证您的衣物洁净如新。')"
      ]
     },
     "execution_count": 5,
     "metadata": {},
     "output_type": "execute_result"
    }
   ],
   "source": [
    "docs[0]"
   ]
  },
  {
   "cell_type": "code",
   "execution_count": 6,
   "id": "73b2d47a-27ae-4cd4-a72a-3809b4c22bff",
   "metadata": {},
   "outputs": [
    {
     "data": {
      "text/plain": [
       "91"
      ]
     },
     "execution_count": 6,
     "metadata": {},
     "output_type": "execute_result"
    }
   ],
   "source": [
    "len(docs)"
   ]
  },
  {
   "cell_type": "code",
   "execution_count": 7,
   "id": "935f9f65-a6f8-47be-92cd-c9236b2d5826",
   "metadata": {},
   "outputs": [],
   "source": [
    "#环境变量配置，不需要可以删除\n",
    "import os\n",
    "os.environ['OPENAI_API_KEY'] = 'sk-9GLvQswLxSJj1Uzq6d1fFc7cDb614eA4A7C60bCf2cA77483'\n",
    "os.environ['OPENAI_BASE_URL']='https://apikeyplus.com/v1'"
   ]
  },
  {
   "cell_type": "markdown",
   "id": "e4617858-ad9c-42eb-a4c3-6bfb7108cdd2",
   "metadata": {},
   "source": [
    "### 使用 Faiss 作为向量数据库，持久化存储房产销售 问答对（QA-Pair）"
   ]
  },
  {
   "cell_type": "code",
   "execution_count": 8,
   "id": "508c2ab2-e187-424f-a43c-ca3d3b1a0550",
   "metadata": {},
   "outputs": [
    {
     "name": "stderr",
     "output_type": "stream",
     "text": [
      "/opt/anaconda3/envs/langchain/lib/python3.10/site-packages/langchain_core/_api/deprecation.py:119: LangChainDeprecationWarning: The class `OpenAIEmbeddings` was deprecated in LangChain 0.0.9 and will be removed in 0.3.0. An updated version of the class exists in the langchain-openai package and should be used instead. To use it run `pip install -U langchain-openai` and import as `from langchain_openai import OpenAIEmbeddings`.\n",
      "  warn_deprecated(\n"
     ]
    }
   ],
   "source": [
    "from langchain.embeddings.openai import OpenAIEmbeddings\n",
    "from langchain.text_splitter import CharacterTextSplitter\n",
    "from langchain.vectorstores import FAISS\n",
    "\n",
    "db = FAISS.from_documents(docs, OpenAIEmbeddings())"
   ]
  },
  {
   "cell_type": "code",
   "execution_count": 9,
   "id": "250e0873-95e2-4372-98a5-68c0feb304bb",
   "metadata": {},
   "outputs": [],
   "source": [
    "query = \"洗衣机噪音大吗\""
   ]
  },
  {
   "cell_type": "code",
   "execution_count": 10,
   "id": "0d18fcc6-c2be-434b-b8de-9648ac6f83f4",
   "metadata": {},
   "outputs": [],
   "source": [
    "answer_list = db.similarity_search(query)"
   ]
  },
  {
   "cell_type": "code",
   "execution_count": 11,
   "id": "e689667e-7a45-40d6-9eae-4e52cbc7daab",
   "metadata": {},
   "outputs": [
    {
     "name": "stdout",
     "output_type": "stream",
     "text": [
      "[客户问题]：这款洗衣机噪音大吗？\n",
      "[销售回答]：这款洗衣机配备了静音技术，运行时非常安静，几乎不会打扰到您和家人的日常生活。\n",
      "\n",
      "[客户问题]：这款洗衣机会不会产生噪音？\n",
      "[销售回答]：这款洗衣机采用了静音技术，运行时噪音极低，不会打扰到您的日常生活。\n",
      "\n",
      "[客户问题]：洗衣机会不会影响到楼下的邻居？\n",
      "[销售回答]：不会的，这款洗衣机采用了高效减震技术，运行时振动小，即使在夜间使用，也不会影响到楼下的邻居。\n",
      "\n",
      "[客户问题]：洗衣机会不会产生振动？\n",
      "[销售回答]：不会的，这款洗衣机配备了平衡系统，可以有效减少洗衣机在高速运转时产生的振动，保持稳定安静的运行。\n",
      "\n"
     ]
    }
   ],
   "source": [
    "for ans in answer_list:\n",
    "    print(ans.page_content + \"\\n\")"
   ]
  },
  {
   "cell_type": "code",
   "execution_count": 12,
   "id": "a6cc47bf-1566-472f-84d2-a46bd634907c",
   "metadata": {},
   "outputs": [],
   "source": [
    "db.save_local(\"wash_machine_sales\")"
   ]
  },
  {
   "cell_type": "markdown",
   "id": "0d5323e5-03fa-4c1c-b896-3ccc28af1857",
   "metadata": {},
   "source": [
    "### 使用 retriever 从向量数据库中获取结果\n",
    "\n",
    "#### 使用参数 `k` 指定返回结果数量\n"
   ]
  },
  {
   "cell_type": "code",
   "execution_count": 13,
   "id": "17f051c9-8676-48d1-a9a4-e69b52630faf",
   "metadata": {},
   "outputs": [],
   "source": [
    "# 实例化一个 TopK Retriever\n",
    "topK_retriever = db.as_retriever(search_kwargs={\"k\": 3})"
   ]
  },
  {
   "cell_type": "code",
   "execution_count": 14,
   "id": "e33024db-ca7b-4d68-9b0e-c31c15ded57d",
   "metadata": {},
   "outputs": [
    {
     "data": {
      "text/plain": [
       "VectorStoreRetriever(tags=['FAISS', 'OpenAIEmbeddings'], vectorstore=<langchain_community.vectorstores.faiss.FAISS object at 0x13694dcf0>, search_kwargs={'k': 3})"
      ]
     },
     "execution_count": 14,
     "metadata": {},
     "output_type": "execute_result"
    }
   ],
   "source": [
    "topK_retriever"
   ]
  },
  {
   "cell_type": "code",
   "execution_count": 15,
   "id": "7efb1414-859f-4818-bacd-e1e2edf34b95",
   "metadata": {},
   "outputs": [
    {
     "name": "stderr",
     "output_type": "stream",
     "text": [
      "/opt/anaconda3/envs/langchain/lib/python3.10/site-packages/langchain_core/_api/deprecation.py:119: LangChainDeprecationWarning: The method `BaseRetriever.get_relevant_documents` was deprecated in langchain-core 0.1.46 and will be removed in 0.3.0. Use invoke instead.\n",
      "  warn_deprecated(\n"
     ]
    },
    {
     "name": "stdout",
     "output_type": "stream",
     "text": [
      "[客户问题]：这款洗衣机噪音大吗？\n",
      "[销售回答]：这款洗衣机配备了静音技术，运行时非常安静，几乎不会打扰到您和家人的日常生活。\n",
      "\n",
      "[客户问题]：这款洗衣机会不会产生噪音？\n",
      "[销售回答]：这款洗衣机采用了静音技术，运行时噪音极低，不会打扰到您的日常生活。\n",
      "\n",
      "[客户问题]：洗衣机会不会影响到楼下的邻居？\n",
      "[销售回答]：不会的，这款洗衣机采用了高效减震技术，运行时振动小，即使在夜间使用，也不会影响到楼下的邻居。\n",
      "\n"
     ]
    }
   ],
   "source": [
    "docs = topK_retriever.get_relevant_documents(query)\n",
    "for doc in docs:\n",
    "    print(doc.page_content + \"\\n\")"
   ]
  },
  {
   "cell_type": "code",
   "execution_count": 16,
   "id": "a3c4b62d-6f8f-461b-a4fb-41c8a404b831",
   "metadata": {},
   "outputs": [],
   "source": [
    "docs = topK_retriever.get_relevant_documents(\"你们有没有8公斤的洗衣机啊？\")"
   ]
  },
  {
   "cell_type": "code",
   "execution_count": 17,
   "id": "04cca3d7-23d9-491f-8350-faeb19861dec",
   "metadata": {},
   "outputs": [
    {
     "name": "stdout",
     "output_type": "stream",
     "text": [
      "[客户问题]：这款洗衣机的容量是多少？\n",
      "[销售回答]：这款洗衣机有8公斤、10公斤和12公斤三种容量可供选择，您可以根据家庭的需求选择适合的型号。\n",
      "\n",
      "[客户问题]：洗衣机容量大吗？\n",
      "[销售回答]：这款洗衣机有多种容量可供选择，您可以根据家庭人口和洗涤需求选择合适的型号，确保能一次性洗涤更多衣物。\n",
      "\n",
      "[客户问题]：这款洗衣机能不能清洁大件物品？\n",
      "[销售回答]：当然可以，这款洗衣机容量大且动力强劲，像被子、窗帘等大件物品也能轻松清洗，完全不用担心。\n",
      "\n"
     ]
    }
   ],
   "source": [
    "for doc in docs:\n",
    "    print(doc.page_content + \"\\n\")"
   ]
  },
  {
   "cell_type": "markdown",
   "id": "b335c9e5-bc01-4a47-916c-03bec0e7a839",
   "metadata": {},
   "source": [
    "#### 使用 similarity_score_threshold 设置阈值，提升结果的相关性质量"
   ]
  },
  {
   "cell_type": "code",
   "execution_count": 18,
   "id": "b1298956-6cf3-4a68-a3c2-a3149f64f156",
   "metadata": {},
   "outputs": [],
   "source": [
    "# 实例化一个 similarity_score_threshold Retriever\n",
    "retriever = db.as_retriever(\n",
    "    search_type=\"similarity_score_threshold\",\n",
    "    search_kwargs={\"score_threshold\": 0.8}\n",
    ")"
   ]
  },
  {
   "cell_type": "code",
   "execution_count": 19,
   "id": "d61167de-72ed-4618-a2e1-5df04784a3bc",
   "metadata": {},
   "outputs": [
    {
     "name": "stdout",
     "output_type": "stream",
     "text": [
      "[客户问题]：这款洗衣机噪音大吗？\n",
      "[销售回答]：这款洗衣机配备了静音技术，运行时非常安静，几乎不会打扰到您和家人的日常生活。\n",
      "\n",
      "[客户问题]：这款洗衣机会不会产生噪音？\n",
      "[销售回答]：这款洗衣机采用了静音技术，运行时噪音极低，不会打扰到您的日常生活。\n",
      "\n",
      "[客户问题]：洗衣机会不会影响到楼下的邻居？\n",
      "[销售回答]：不会的，这款洗衣机采用了高效减震技术，运行时振动小，即使在夜间使用，也不会影响到楼下的邻居。\n",
      "\n"
     ]
    }
   ],
   "source": [
    "docs = retriever.get_relevant_documents(query)\n",
    "for doc in docs:\n",
    "    print(doc.page_content + \"\\n\")"
   ]
  },
  {
   "cell_type": "code",
   "execution_count": null,
   "id": "548d1b52-6fa2-46d6-9218-908db572f380",
   "metadata": {},
   "outputs": [],
   "source": []
  },
  {
   "cell_type": "markdown",
   "id": "c31344ce-f952-4604-b700-fdbb34da1e28",
   "metadata": {},
   "source": [
    "### 提取向量数据库中的`销售回答`"
   ]
  },
  {
   "cell_type": "code",
   "execution_count": 20,
   "id": "25768463-da65-4762-978d-51c0c3a9c24b",
   "metadata": {},
   "outputs": [],
   "source": [
    "docs = retriever.get_relevant_documents(query)"
   ]
  },
  {
   "cell_type": "code",
   "execution_count": 21,
   "id": "4838d3da-dca3-4c31-80da-cec75760a833",
   "metadata": {},
   "outputs": [
    {
     "data": {
      "text/plain": [
       "'[客户问题]：这款洗衣机噪音大吗？\\n[销售回答]：这款洗衣机配备了静音技术，运行时非常安静，几乎不会打扰到您和家人的日常生活。'"
      ]
     },
     "execution_count": 21,
     "metadata": {},
     "output_type": "execute_result"
    }
   ],
   "source": [
    "docs[0].page_content"
   ]
  },
  {
   "cell_type": "code",
   "execution_count": 22,
   "id": "1ba30232-f468-4102-b70c-02c8b74da43d",
   "metadata": {},
   "outputs": [
    {
     "data": {
      "text/plain": [
       "['[客户问题]：这款洗衣机噪音大吗？\\n[销售回答]：这款洗衣机配备了静音技术，运行时非常安静，几乎不会打扰到您和家人的日常生活。']"
      ]
     },
     "execution_count": 22,
     "metadata": {},
     "output_type": "execute_result"
    }
   ],
   "source": [
    "docs[0].page_content.split(\"[销售回答] \")"
   ]
  },
  {
   "cell_type": "code",
   "execution_count": 23,
   "id": "bda8eb0c-eb1f-47b2-91ab-4c94ff71c3db",
   "metadata": {},
   "outputs": [],
   "source": [
    "ans = docs[0].page_content.split(\"[销售回答] \")[-1]"
   ]
  },
  {
   "cell_type": "code",
   "execution_count": 24,
   "id": "917a3b6c-3149-42e2-b7b6-abebd94b7f72",
   "metadata": {},
   "outputs": [
    {
     "data": {
      "text/plain": [
       "'[客户问题]：这款洗衣机噪音大吗？\\n[销售回答]：这款洗衣机配备了静音技术，运行时非常安静，几乎不会打扰到您和家人的日常生活。'"
      ]
     },
     "execution_count": 24,
     "metadata": {},
     "output_type": "execute_result"
    }
   ],
   "source": [
    "ans"
   ]
  },
  {
   "cell_type": "markdown",
   "id": "b36b61a5-156d-4546-bbd1-8a983e94676b",
   "metadata": {},
   "source": [
    "#### 尝试各种问题"
   ]
  },
  {
   "cell_type": "code",
   "execution_count": 25,
   "id": "c311a656-e571-45d6-8690-88e4be2c2a65",
   "metadata": {},
   "outputs": [],
   "source": [
    "from typing import List\n",
    "\n",
    "def sales(query: str, score_threshold: float=0.8) -> List[str]:\n",
    "    retriever = db.as_retriever(search_type=\"similarity_score_threshold\", search_kwargs={\"score_threshold\": score_threshold})    \n",
    "    docs = retriever.get_relevant_documents(query)\n",
    "    ans_list = [doc.page_content.split(\"[销售回答] \")[-1] for doc in docs]\n",
    "\n",
    "    return ans_list"
   ]
  },
  {
   "cell_type": "code",
   "execution_count": 26,
   "id": "2f4c6c08-b97c-4727-9aa1-a474d85a11e4",
   "metadata": {},
   "outputs": [
    {
     "name": "stdout",
     "output_type": "stream",
     "text": [
      "[]\n"
     ]
    },
    {
     "name": "stderr",
     "output_type": "stream",
     "text": [
      "/opt/anaconda3/envs/langchain/lib/python3.10/site-packages/langchain_core/vectorstores.py:342: UserWarning: No relevant docs were retrieved using the relevance score threshold 0.8\n",
      "  warnings.warn(\n"
     ]
    }
   ],
   "source": [
    "query = \"我想买一个顶配的洗衣机\"\n",
    "\n",
    "print(sales(query))"
   ]
  },
  {
   "cell_type": "code",
   "execution_count": 27,
   "id": "11e3d8b6-839f-4b2f-b519-841e0271f95b",
   "metadata": {},
   "outputs": [
    {
     "name": "stdout",
     "output_type": "stream",
     "text": [
      "['[客户问题]：洗衣机容量大吗？\\n[销售回答]：这款洗衣机有多种容量可供选择，您可以根据家庭人口和洗涤需求选择合适的型号，确保能一次性洗涤更多衣物。', '[客户问题]：这款洗衣机使用起来方便吗？\\n[销售回答]：非常方便，这款洗衣机具有智能操作面板，功能直观易懂，任何人都能轻松上手。', '[客户问题]：这款洗衣机的容量是多少？\\n[销售回答]：这款洗衣机有8公斤、10公斤和12公斤三种容量可供选择，您可以根据家庭的需求选择适合的型号。', '[客户问题]：这款洗衣机适合小户型使用吗？\\n[销售回答]：非常适合，这款洗衣机设计紧凑，占地面积小，即使在小户型中也能轻松摆放。']\n"
     ]
    }
   ],
   "source": [
    "print(sales(query, 0.75))"
   ]
  },
  {
   "cell_type": "code",
   "execution_count": 28,
   "id": "fc5b030a-ae6f-4d42-9577-1420c78aecb1",
   "metadata": {},
   "outputs": [
    {
     "name": "stderr",
     "output_type": "stream",
     "text": [
      "/opt/anaconda3/envs/langchain/lib/python3.10/site-packages/langchain_core/vectorstores.py:342: UserWarning: No relevant docs were retrieved using the relevance score threshold 0.8\n",
      "  warnings.warn(\n"
     ]
    },
    {
     "name": "stdout",
     "output_type": "stream",
     "text": [
      "score:0.8 ans: []\n",
      "\n"
     ]
    },
    {
     "name": "stderr",
     "output_type": "stream",
     "text": [
      "/opt/anaconda3/envs/langchain/lib/python3.10/site-packages/langchain_core/vectorstores.py:342: UserWarning: No relevant docs were retrieved using the relevance score threshold 0.75\n",
      "  warnings.warn(\n"
     ]
    },
    {
     "name": "stdout",
     "output_type": "stream",
     "text": [
      "score:0.75 ans: []\n",
      "\n",
      "score:0.5 ans: ['[客户问题]：这个价格有优惠吗？\\n[销售回答]：我们目前正在做促销活动，您购买这款洗衣机还可以享受折扣优惠，性价比非常高，建议您尽快下单哦。', '[客户问题]：这款洗衣机是进口的吗？\\n[销售回答]：这款洗衣机采用了国际先进的技术和进口的核心部件，质量有保证，性能卓越。', '[客户问题]：售后服务怎么样？\\n[销售回答]：我们的售后服务非常完善，提供免费安装、保修等服务，还有24小时服务热线，随时为您解决问题，让您买得安心，用得放心。', '[客户问题]：这款洗衣机的电机是多大功率的？\\n[销售回答]：这款洗衣机配备了高效节能电机，功率为2000瓦，既能保证强劲的洗涤效果，又非常节能省电。']\n",
      "\n"
     ]
    }
   ],
   "source": [
    "query = \"价格2000元以上\"\n",
    "\n",
    "print(f\"score:0.8 ans: {sales(query)}\\n\")\n",
    "print(f\"score:0.75 ans: {sales(query, 0.75)}\\n\")\n",
    "print(f\"score:0.5 ans: {sales(query, 0.5)}\\n\")"
   ]
  },
  {
   "cell_type": "markdown",
   "id": "9e26e6d7-259b-4ecf-9c72-027befba4e3b",
   "metadata": {},
   "source": [
    "#### 当向量数据库中没有合适答案时，使用大语言模型能力"
   ]
  },
  {
   "cell_type": "code",
   "execution_count": 29,
   "id": "9142feb4-980a-4142-b367-1401021dceef",
   "metadata": {},
   "outputs": [],
   "source": [
    "from langchain.chains import RetrievalQA\n",
    "from langchain_openai import ChatOpenAI\n",
    "\n",
    "llm = ChatOpenAI(model_name=\"gpt-4-1106-preview\", temperature=0.5)\n",
    "qa_chain = RetrievalQA.from_chain_type(llm,\n",
    "                                       retriever=db.as_retriever(search_type=\"similarity_score_threshold\",\n",
    "                                                                 search_kwargs={\"score_threshold\": 0.8}))"
   ]
  },
  {
   "cell_type": "code",
   "execution_count": 30,
   "id": "d281b560-54bb-4a25-a1dc-b23874361654",
   "metadata": {},
   "outputs": [
    {
     "name": "stderr",
     "output_type": "stream",
     "text": [
      "/opt/anaconda3/envs/langchain/lib/python3.10/site-packages/langchain_core/_api/deprecation.py:119: LangChainDeprecationWarning: The method `Chain.__call__` was deprecated in langchain 0.1.0 and will be removed in 0.3.0. Use invoke instead.\n",
      "  warn_deprecated(\n"
     ]
    },
    {
     "data": {
      "text/plain": [
       "{'query': '你们有2000元以上的洗衣机吗？',\n",
       " 'result': '[销售回答]：当然有，我们店里有多种品牌和型号的洗衣机，价格区间覆盖了从经济型到高端型，2000元以上的洗衣机选择也很丰富。您可以根据您的具体需求和偏好来选择合适的洗衣机。'}"
      ]
     },
     "execution_count": 30,
     "metadata": {},
     "output_type": "execute_result"
    }
   ],
   "source": [
    "qa_chain({\"query\": \"你们有2000元以上的洗衣机吗？\"})"
   ]
  },
  {
   "cell_type": "code",
   "execution_count": 31,
   "id": "c6a30dcc-fa6b-4282-935c-b07902746e19",
   "metadata": {},
   "outputs": [
    {
     "data": {
      "text/plain": [
       "{'query': '洗衣机吵不吵', 'result': '这款洗衣机配备了静音技术，运行时噪音极低，因此不会很吵，几乎不会打扰到您和家人的日常生活。'}"
      ]
     },
     "execution_count": 31,
     "metadata": {},
     "output_type": "execute_result"
    }
   ],
   "source": [
    "qa_chain({\"query\": \"洗衣机吵不吵\"})"
   ]
  },
  {
   "cell_type": "code",
   "execution_count": 32,
   "id": "9da44bd6-02ef-4fb6-8e9e-7c99aeba483a",
   "metadata": {},
   "outputs": [
    {
     "name": "stdout",
     "output_type": "stream",
     "text": [
      "['[客户问题]：洗衣机会不会影响到楼下的邻居？\\n[销售回答]：不会的，这款洗衣机采用了高效减震技术，运行时振动小，即使在夜间使用，也不会影响到楼下的邻居。', '[客户问题]：这款洗衣机噪音大吗？\\n[销售回答]：这款洗衣机配备了静音技术，运行时非常安静，几乎不会打扰到您和家人的日常生活。', '[客户问题]：这款洗衣机会不会产生噪音？\\n[销售回答]：这款洗衣机采用了静音技术，运行时噪音极低，不会打扰到您的日常生活。', '[客户问题]：洗衣机的操作难吗？\\n[销售回答]：一点也不难，这款洗衣机设计了智能操作界面，简单易用，即使是老人或小孩也能轻松操作。']\n"
     ]
    }
   ],
   "source": [
    "print(sales(\"洗衣机吵不吵\"))"
   ]
  },
  {
   "cell_type": "code",
   "execution_count": null,
   "id": "9764bb10-44ed-47c9-a351-a68f4f7d4f44",
   "metadata": {},
   "outputs": [],
   "source": []
  },
  {
   "cell_type": "markdown",
   "id": "0a0647e8-5b41-4c93-87c2-3240ec558717",
   "metadata": {},
   "source": [
    "## 加载 FAISS 向量数据库已有结果"
   ]
  },
  {
   "cell_type": "code",
   "execution_count": 33,
   "id": "913edd04-37ea-4c3f-9346-086aeb0ab447",
   "metadata": {},
   "outputs": [],
   "source": [
    "from langchain_openai import OpenAIEmbeddings\n",
    "from langchain.vectorstores import FAISS\n",
    "\n",
    "# 不添加 allow_dangerous_deserialization=True 会报错，参考：https://stackoverflow.com/questions/78120202/the-de-serialization-relies-loading-a-pickle-file\n",
    "db = FAISS.load_local(\"wash_machine_sales\", OpenAIEmbeddings(),allow_dangerous_deserialization=True)"
   ]
  },
  {
   "cell_type": "code",
   "execution_count": 34,
   "id": "77d8eee4-6383-4b4a-9737-95ea9fc53b87",
   "metadata": {},
   "outputs": [
    {
     "name": "stderr",
     "output_type": "stream",
     "text": [
      "/opt/anaconda3/envs/langchain/lib/python3.10/site-packages/langchain_core/_api/deprecation.py:119: LangChainDeprecationWarning: The class `ChatOpenAI` was deprecated in LangChain 0.0.10 and will be removed in 0.3.0. An updated version of the class exists in the langchain-openai package and should be used instead. To use it run `pip install -U langchain-openai` and import as `from langchain_openai import ChatOpenAI`.\n",
      "  warn_deprecated(\n"
     ]
    }
   ],
   "source": [
    "from langchain.chains import RetrievalQA\n",
    "from langchain.chat_models import ChatOpenAI\n",
    "\n",
    "llm = ChatOpenAI(model_name=\"gpt-4\", temperature=0.5)\n",
    "qa_chain = RetrievalQA.from_chain_type(llm,\n",
    "                                       retriever=db.as_retriever(search_type=\"similarity_score_threshold\",\n",
    "                                                                 search_kwargs={\"score_threshold\": 0.8}))"
   ]
  },
  {
   "cell_type": "code",
   "execution_count": 35,
   "id": "5dfac197-cadb-47d7-8cbe-1b07a83fc8e1",
   "metadata": {},
   "outputs": [
    {
     "data": {
      "text/plain": [
       "{'query': '我想买带烘干的洗衣机，你们有么', 'result': '是的，我们有带独立烘干模式的洗衣机，非常方便实用。'}"
      ]
     },
     "execution_count": 35,
     "metadata": {},
     "output_type": "execute_result"
    }
   ],
   "source": [
    "qa_chain({\"query\": \"我想买带烘干的洗衣机，你们有么\"})"
   ]
  },
  {
   "cell_type": "code",
   "execution_count": 36,
   "id": "fc393afc-06d3-4483-bd24-efe000ef5f2a",
   "metadata": {},
   "outputs": [],
   "source": [
    "# 输出内部 Chain 的日志\n",
    "qa_chain.combine_documents_chain.verbose = True"
   ]
  },
  {
   "cell_type": "code",
   "execution_count": 37,
   "id": "013c313a-5e7c-48d1-8ed4-eee96e50a99c",
   "metadata": {},
   "outputs": [
    {
     "name": "stdout",
     "output_type": "stream",
     "text": [
      "\n",
      "\n",
      "\u001b[1m> Entering new StuffDocumentsChain chain...\u001b[0m\n",
      "\n",
      "\u001b[1m> Finished chain.\u001b[0m\n"
     ]
    },
    {
     "data": {
      "text/plain": [
       "{'query': '我想买带烘干的洗衣机，你们有么', 'result': '是的，我们有带独立烘干模式的洗衣机，非常方便实用。'}"
      ]
     },
     "execution_count": 37,
     "metadata": {},
     "output_type": "execute_result"
    }
   ],
   "source": [
    "qa_chain({\"query\": \"我想买带烘干的洗衣机，你们有么\"})"
   ]
  },
  {
   "cell_type": "code",
   "execution_count": 38,
   "id": "e5fb0943-ffe9-4270-8dbe-f5f5314e6042",
   "metadata": {},
   "outputs": [],
   "source": [
    "# 返回向量数据库的检索结果\n",
    "qa_chain.return_source_documents = True"
   ]
  },
  {
   "cell_type": "code",
   "execution_count": 39,
   "id": "fbc1741e-d34f-4df5-874b-02b78e8cd67a",
   "metadata": {},
   "outputs": [
    {
     "name": "stdout",
     "output_type": "stream",
     "text": [
      "\n",
      "\n",
      "\u001b[1m> Entering new StuffDocumentsChain chain...\u001b[0m\n",
      "\n",
      "\u001b[1m> Finished chain.\u001b[0m\n"
     ]
    }
   ],
   "source": [
    "result = qa_chain({\"query\": \"我想买带烘干的洗衣机，你们有么\"})"
   ]
  },
  {
   "cell_type": "code",
   "execution_count": 40,
   "id": "fac8309c-033c-4144-ada0-08e74fa9bf2d",
   "metadata": {},
   "outputs": [
    {
     "data": {
      "text/plain": [
       "{'query': '我想买带烘干的洗衣机，你们有么',\n",
       " 'result': '是的，我们有带独立烘干模式的洗衣机。',\n",
       " 'source_documents': [Document(page_content='[客户问题]：这款洗衣机有单独的烘干模式吗？\\n[销售回答]：是的，这款洗衣机配有独立的烘干模式，您可以选择只烘干衣物，非常方便实用。')]}"
      ]
     },
     "execution_count": 40,
     "metadata": {},
     "output_type": "execute_result"
    }
   ],
   "source": [
    "result"
   ]
  },
  {
   "cell_type": "code",
   "execution_count": null,
   "id": "aef4a2ef-9a53-459a-9f22-7833a46b46df",
   "metadata": {},
   "outputs": [],
   "source": []
  }
 ],
 "metadata": {
  "kernelspec": {
   "display_name": "Python 3 (ipykernel)",
   "language": "python",
   "name": "python3"
  },
  "language_info": {
   "codemirror_mode": {
    "name": "ipython",
    "version": 3
   },
   "file_extension": ".py",
   "mimetype": "text/x-python",
   "name": "python",
   "nbconvert_exporter": "python",
   "pygments_lexer": "ipython3",
   "version": "3.10.14"
  }
 },
 "nbformat": 4,
 "nbformat_minor": 5
}
